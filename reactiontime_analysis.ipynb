{
 "cells": [
  {
   "cell_type": "code",
   "execution_count": null,
   "metadata": {},
   "outputs": [],
   "source": [
    "from statsmodels.stats.anova import AnovaRM\n",
    "import matplotlib.pyplot as plt\n",
    "import pandas as pd\n",
    "import pingouin as pg\n",
    "import numpy as np\n",
    "import seaborn as sns"
   ]
  },
  {
   "cell_type": "code",
   "execution_count": 181,
   "metadata": {},
   "outputs": [],
   "source": [
    "df_no_latency = pd.read_pickle(\"preprocessed_data/preprocessed_no_latency.pkl\")\n",
    "df_with_latency = pd.read_pickle(\"preprocessed_data/preprocessed_with_latency.pkl\")"
   ]
  },
  {
   "cell_type": "code",
   "execution_count": 182,
   "metadata": {},
   "outputs": [],
   "source": [
    "def visualize_anova_results(df, key, key_label, title, showErrorBars=True):\n",
    "    grouped_data = df.groupby(['previouscongruency', 'currentcongruency'])[key].mean().reset_index()\n",
    "\n",
    "    plt.figure(figsize=(10, 6))\n",
    "    sns.set_style('whitegrid')\n",
    "\n",
    "    # Define markers and lines for current congruency\n",
    "    markers = ['o', 's']\n",
    "    linestyles = ['-', '--']\n",
    "    colors = ['blue', 'red']\n",
    "    labels = ['Current: Congruent', 'Current: Incongruent']\n",
    "\n",
    "    x_mapping = {1: 0, 0: 1}\n",
    "\n",
    "    # Create the plot\n",
    "    for i, current in enumerate([1, 0]):\n",
    "        subset = grouped_data[grouped_data['currentcongruency'] == current]\n",
    "        subset = subset.sort_values('previouscongruency', ascending=False)\n",
    "        x_values = [x_mapping[prev] for prev in subset['previouscongruency']]\n",
    "\n",
    "        plt.plot(x_values, subset[key], \n",
    "                marker=markers[i], linestyle=linestyles[i], color=colors[i], \n",
    "                linewidth=2, markersize=10, label=labels[i])\n",
    "\n",
    "    # Customize x-axis\n",
    "    plt.xticks([0, 1], ['Congruent', 'Incongruent'])\n",
    "    plt.xlabel('Previous Congruency', fontsize=14)\n",
    "    plt.ylabel(key_label, fontsize=14)\n",
    "    plt.title(f'{title}', fontsize=16)\n",
    "    plt.legend(loc='best', fontsize=12)\n",
    "\n",
    "    # Add error bars (standard error)\n",
    "    if showErrorBars:\n",
    "        for i, current in enumerate([1, 0]):\n",
    "            for j, previous in enumerate([1, 0]):\n",
    "                subset = df[(df['currentcongruency'] == current) & (df['previouscongruency'] == previous)]\n",
    "                mean = subset[key].mean()\n",
    "                se = subset[key].std() / np.sqrt(len(subset))\n",
    "                plt.errorbar(x_mapping[previous], mean, yerr=se, fmt='none', capsize=5, \n",
    "                            ecolor=colors[i], alpha=0.7)\n",
    "\n",
    "    # Adjust layout\n",
    "    plt.tight_layout()\n",
    "    plt.grid(True, linestyle='--', alpha=0.7)\n",
    "\n",
    "    # Show the plot\n",
    "    plt.show()"
   ]
  },
  {
   "cell_type": "markdown",
   "metadata": {},
   "source": [
    "## 3-way ANOVA für Latenzkonditionen"
   ]
  },
  {
   "cell_type": "code",
   "execution_count": 206,
   "metadata": {},
   "outputs": [],
   "source": [
    "df_combined = pd.concat([df_with_latency, df_no_latency])\n",
    "df_combined_aggregated = df_combined.groupby(['participant_num', 'currentcongruency', 'previouscongruency', 'latency'])['reactiontime'].mean().reset_index()"
   ]
  },
  {
   "cell_type": "code",
   "execution_count": 207,
   "metadata": {},
   "outputs": [
    {
     "name": "stdout",
     "output_type": "stream",
     "text": [
      "                                   Anova\n",
      "===========================================================================\n",
      "                                             F Value  Num DF  Den DF Pr > F\n",
      "---------------------------------------------------------------------------\n",
      "latency                                      131.1092 1.0000 15.0000 0.0000\n",
      "currentcongruency                            125.0430 1.0000 15.0000 0.0000\n",
      "previouscongruency                             6.5852 1.0000 15.0000 0.0215\n",
      "latency:currentcongruency                      6.3121 1.0000 15.0000 0.0239\n",
      "latency:previouscongruency                     0.4353 1.0000 15.0000 0.5194\n",
      "currentcongruency:previouscongruency         109.5077 1.0000 15.0000 0.0000\n",
      "latency:currentcongruency:previouscongruency   1.0635 1.0000 15.0000 0.3188\n",
      "===========================================================================\n",
      "\n"
     ]
    }
   ],
   "source": [
    "aovrm = AnovaRM(df_combined_aggregated, 'reactiontime', 'participant_num', within=['latency', 'currentcongruency', 'previouscongruency'])\n",
    "anova_res = aovrm.fit()\n",
    "\n",
    "print(anova_res.summary())"
   ]
  },
  {
   "cell_type": "code",
   "execution_count": 209,
   "metadata": {},
   "outputs": [
    {
     "name": "stdout",
     "output_type": "stream",
     "text": [
      "\n",
      "ANOVA Results - Congruency and Latency on Reactiontime:\n",
      "--------------------------------------------------\n",
      "Latency Effect: F(1.0, 15.0) = 131.11, p = 0.00000001\n",
      "Current Congruency Effect: F(1.0, 15.0) = 125.04, p = 0.00000001\n",
      "Previous Congruency Effect: F(1.0, 15.0) = 6.59, p = 0.021497\n",
      "Interaction Effect of latency and previous congruency: F(1.0, 15.0) = 0.44, p = 0.51940125\n",
      "Interaction Effect of latency and current congruency: F(1.0, 15.0) = 6.31, p = 0.02391360\n",
      "Interaction Effect of previous and current congruency: F(1.0, 15.0) = 109.51, p = 0.00000003\n",
      "Interaction Effect of previous and current congruency and latency: F(1.0, 15.0) = 1.06, p = 0.31875735\n"
     ]
    }
   ],
   "source": [
    "# Extract and print p-values specifically\n",
    "print(\"\\nANOVA Results - Congruency and Latency on Reactiontime:\")\n",
    "print(\"-\" * 50)\n",
    "results_df = anova_res.anova_table\n",
    "print(f\"Latency Effect: F({results_df.loc['latency', 'Num DF']:.1f}, {results_df.loc['latency', 'Den DF']:.1f}) = {results_df.loc['latency', 'F Value']:.2f}, p = {results_df.loc['latency', 'Pr > F']:.8f}\")\n",
    "print(f\"Current Congruency Effect: F({results_df.loc['currentcongruency', 'Num DF']:.1f}, {results_df.loc['currentcongruency', 'Den DF']:.1f}) = {results_df.loc['currentcongruency', 'F Value']:.2f}, p = {results_df.loc['currentcongruency', 'Pr > F']:.8f}\")\n",
    "print(f\"Previous Congruency Effect: F({results_df.loc['previouscongruency', 'Num DF']:.1f}, {results_df.loc['previouscongruency', 'Den DF']:.1f}) = {results_df.loc['previouscongruency', 'F Value']:.2f}, p = {results_df.loc['previouscongruency', 'Pr > F']:.6f}\")\n",
    "print(f\"Interaction Effect of latency and previous congruency: F({results_df.loc['latency:previouscongruency', 'Num DF']:.1f}, {results_df.loc['latency:previouscongruency', 'Den DF']:.1f}) = {results_df.loc['latency:previouscongruency', 'F Value']:.2f}, p = {results_df.loc['latency:previouscongruency', 'Pr > F']:.8f}\")\n",
    "print(f\"Interaction Effect of latency and current congruency: F({results_df.loc['latency:currentcongruency', 'Num DF']:.1f}, {results_df.loc['latency:currentcongruency', 'Den DF']:.1f}) = {results_df.loc['latency:currentcongruency', 'F Value']:.2f}, p = {results_df.loc['latency:currentcongruency', 'Pr > F']:.8f}\")\n",
    "print(f\"Interaction Effect of previous and current congruency: F({results_df.loc['currentcongruency:previouscongruency', 'Num DF']:.1f}, {results_df.loc['currentcongruency:previouscongruency', 'Den DF']:.1f}) = {results_df.loc['currentcongruency:previouscongruency', 'F Value']:.2f}, p = {results_df.loc['currentcongruency:previouscongruency', 'Pr > F']:.8f}\")\n",
    "print(f\"Interaction Effect of previous and current congruency and latency: F({results_df.loc['latency:currentcongruency:previouscongruency', 'Num DF']:.1f}, {results_df.loc['latency:currentcongruency:previouscongruency', 'Den DF']:.1f}) = {results_df.loc['latency:currentcongruency:previouscongruency', 'F Value']:.2f}, p = {results_df.loc['latency:currentcongruency:previouscongruency', 'Pr > F']:.8f}\")"
   ]
  },
  {
   "cell_type": "code",
   "execution_count": 218,
   "metadata": {},
   "outputs": [
    {
     "name": "stdout",
     "output_type": "stream",
     "text": [
      "Generalized Eta Squared (η²g) for each effect:\n",
      "latency: 0.8973\n",
      "currentcongruency: 0.8929\n",
      "previouscongruency: 0.3051\n",
      "latency:currentcongruency: 0.2962\n",
      "latency:previouscongruency: 0.0282\n",
      "currentcongruency:previouscongruency: 0.8795\n",
      "latency:currentcongruency:previouscongruency: 0.0662\n"
     ]
    }
   ],
   "source": [
    "anova_df = pd.DataFrame(results_df)\n",
    "\n",
    "# Calculate the total df (Total observations - 1)\n",
    "df_total = 16  # Example total df (32 participants or total observations)\n",
    "\n",
    "# Calculate the generalized eta squared (η²g) for each effect\n",
    "eta_squared_g = {}\n",
    "\n",
    "# Loop through each row of the DataFrame (using the index for the effect name)\n",
    "for effect, row in anova_df.iterrows():\n",
    "    F_value = row['F Value']\n",
    "    df_effect = row['Num DF']\n",
    "    df_error = row['Den DF']\n",
    "    \n",
    "    # Compute generalized eta squared (η²g)\n",
    "    eta_squared_g[effect] = (F_value * df_effect) / ((F_value * df_effect) + df_error)\n",
    "\n",
    "# Print the generalized eta squared (η²g) values for each effect\n",
    "print(\"Generalized Eta Squared (η²g) for each effect:\")\n",
    "for effect, eta in eta_squared_g.items():\n",
    "    print(f\"{effect}: {eta:.4f}\")"
   ]
  },
  {
   "cell_type": "code",
   "execution_count": 219,
   "metadata": {},
   "outputs": [
    {
     "name": "stdout",
     "output_type": "stream",
     "text": [
      "\n",
      "Anova results for congruency (current/previous) and latency on RT:\n",
      "\n",
      "Mean Reaction Times for Each Condition:\n",
      "--------------------------------------------------\n",
      "Previous: Incongruent Current: Incongruent Latency: With latency Mean RT: 521.54 ms\n",
      "Previous: Congruent   Current: Incongruent Latency: With latency Mean RT: 556.17 ms\n",
      "Previous: Incongruent Current: Congruent   Latency: With latency Mean RT: 464.52 ms\n",
      "Previous: Congruent   Current: Congruent   Latency: With latency Mean RT: 439.69 ms\n",
      "Previous: Incongruent Current: Incongruent Latency: Without latency Mean RT: 461.17 ms\n",
      "Previous: Congruent   Current: Incongruent Latency: Without latency Mean RT: 494.26 ms\n",
      "Previous: Incongruent Current: Congruent   Latency: Without latency Mean RT: 409.82 ms\n",
      "Previous: Congruent   Current: Congruent   Latency: Without latency Mean RT: 390.44 ms\n"
     ]
    }
   ],
   "source": [
    "# Calculate and print mean values for each condition\n",
    "condition_means = df_combined_aggregated.groupby(['latency', 'currentcongruency', 'previouscongruency'])['reactiontime'].mean().reset_index()\n",
    "\n",
    "print(\"\\nAnova results for congruency (current/previous) and latency on RT:\")\n",
    "print(\"\\nMean Reaction Times for Each Condition:\")\n",
    "print(\"-\" * 50)\n",
    "for _, row in condition_means.iterrows():\n",
    "    current = \"Congruent\" if row['currentcongruency'] == 1 else \"Incongruent\"\n",
    "    previous = \"Congruent\" if row['previouscongruency'] == 1 else \"Incongruent\"\n",
    "    latency = \"Without latency\" if row['latency'] == 1 else \"With latency\"\n",
    "    print(f\"Previous: {previous:<11} Current: {current:<11} Latency: {latency:<11} Mean RT: {row['reactiontime']:.2f} ms\")"
   ]
  },
  {
   "cell_type": "code",
   "execution_count": 225,
   "metadata": {},
   "outputs": [
    {
     "name": "stdout",
     "output_type": "stream",
     "text": [
      "\n",
      "Main Effects:\n",
      "--------------------------------------------------\n",
      "Current Congruency Effect: Incongruent: 508.29 ms, Congruent: 426.12 ms\n",
      "Congruency Effect Size: 82.17 ms\n",
      "Statistical Significance: p = 0.00000001\n",
      "\n",
      "Previous Congruency Effect: Incongruent: 464.26 ms, Congruent: 470.14 ms\n",
      "Previous Trial Effect Size: -5.88 ms\n",
      "Statistical Significance: p = 0.021497\n",
      "\n",
      "Latency Effect: With Latency: 495.48 ms, Without Latency: 438.92 ms\n",
      "Latency Effect Size: 56.56 ms\n",
      "Statistical Significance: p =                                                                               0.000000\n",
      "\n"
     ]
    }
   ],
   "source": [
    "# Calculate main effects\n",
    "print(\"\\nMain Effects:\")\n",
    "print(\"-\" * 50)\n",
    "current_effect = condition_means.groupby('currentcongruency')['reactiontime'].mean()\n",
    "print(f\"Current Congruency Effect: Incongruent: {current_effect[0]:.2f} ms, Congruent: {current_effect[1]:.2f} ms\")\n",
    "print(f\"Congruency Effect Size: {current_effect[0] - current_effect[1]:.2f} ms\")\n",
    "print(f\"Statistical Significance: p = {results_df.loc['currentcongruency', 'Pr > F']:.8f}\\n\")\n",
    "\n",
    "previous_effect = condition_means.groupby('previouscongruency')['reactiontime'].mean()\n",
    "print(f\"Previous Congruency Effect: Incongruent: {previous_effect[0]:.2f} ms, Congruent: {previous_effect[1]:.2f} ms\")\n",
    "print(f\"Previous Trial Effect Size: {previous_effect[0] - previous_effect[1]:.2f} ms\")\n",
    "print(f\"Statistical Significance: p = {results_df.loc['previouscongruency', 'Pr > F']:.6f}\\n\")\n",
    "\n",
    "latency_effect = condition_means.groupby('latency')['reactiontime'].mean()\n",
    "print(f\"Latency Effect: With Latency: {latency_effect[0]:.2f} ms, Without Latency: {latency_effect[1]:.2f} ms\")\n",
    "print(f\"Latency Effect Size: {latency_effect[0] - latency_effect[1]:.2f} ms\")\n",
    "print(f\"Statistical Significance: p = {results_df.loc['latency', 'Pr > F']:86f}\\n\")"
   ]
  },
  {
   "cell_type": "code",
   "execution_count": null,
   "metadata": {},
   "outputs": [
    {
     "name": "stdout",
     "output_type": "stream",
     "text": [
      "Interaction:\n",
      "--------------------------------------------------\n",
      "Congruency RT after congruent trial: 116.48 ms\n",
      "Congruency RT after incongruent trial: 57.03 ms\n",
      "Difference in RTs: 59.45 ms\n",
      "Statistical Significance: p = 0.00000003\n"
     ]
    }
   ],
   "source": [
    "#cc_effect_after_c = condition_means[condition_means['previouscongruency']==1]['reactiontime'].values\n",
    "#cc_effect_after_c = cc_effect_after_c[0] - cc_effect_after_c[1] if len(cc_effect_after_c) > 1 else \"N/A\"\n",
    "\n",
    "#cc_effect_after_ic = condition_means[condition_means['previouscongruency']==0]['reactiontime'].values\n",
    "#cc_effect_after_ic = cc_effect_after_ic[0] - cc_effect_after_ic[1] if len(cc_effect_after_ic) > 1 else \"N/A\"\n",
    "\n",
    "#print(\"Interaction:\")\n",
    "#print(\"-\" * 50)\n",
    "#print(f\"Congruency RT after congruent trial: {cc_effect_after_c:.2f} ms\")\n",
    "#print(f\"Congruency RT after incongruent trial: {cc_effect_after_ic:.2f} ms\")\n",
    "#print(f\"Difference in RTs: {cc_effect_after_c - cc_effect_after_ic:.2f} ms\")\n",
    "#print(f\"Statistical Significance: p = {results_df.loc['currentcongruency:previouscongruency', 'Pr > F']:.8f}\")"
   ]
  },
  {
   "cell_type": "markdown",
   "metadata": {},
   "source": [
    "## Für Gruppe ohne Latenz"
   ]
  },
  {
   "cell_type": "code",
   "execution_count": 189,
   "metadata": {},
   "outputs": [
    {
     "name": "stdout",
     "output_type": "stream",
     "text": [
      "                                   Source           F         p-unc       ng2\n",
      "0                       currentcongruency  140.579250  5.093711e-09  0.636607\n",
      "1                      previouscongruency    5.969440  2.740255e-02  0.013505\n",
      "2  currentcongruency * previouscongruency   54.363329  2.317234e-06  0.166851\n"
     ]
    },
    {
     "name": "stderr",
     "output_type": "stream",
     "text": [
      "c:\\Users\\Matthias\\Documents\\GitHub\\continuousSimonTask\\venv\\lib\\site-packages\\pingouin\\distribution.py:507: FutureWarning: DataFrame.groupby with axis=1 is deprecated. Do `frame.T.groupby(...)` without axis instead.\n",
      "  data.groupby(level=1, axis=1, observed=True, group_keys=False)\n",
      "c:\\Users\\Matthias\\Documents\\GitHub\\continuousSimonTask\\venv\\lib\\site-packages\\pingouin\\distribution.py:507: FutureWarning: DataFrameGroupBy.diff with axis=1 is deprecated and will be removed in a future version. Operate on the un-grouped DataFrame instead\n",
      "  data.groupby(level=1, axis=1, observed=True, group_keys=False)\n"
     ]
    }
   ],
   "source": [
    "aov_results_no_latency = pg.rm_anova(dv='reactiontime', \n",
    "                            within=['currentcongruency', 'previouscongruency'], \n",
    "                            subject='participant_num', \n",
    "                            data=df_no_latency, \n",
    "                            detailed=True)\n",
    "\n",
    "print(aov_results_no_latency[['Source', 'F', 'p-unc', 'ng2']])"
   ]
  },
  {
   "cell_type": "code",
   "execution_count": 190,
   "metadata": {},
   "outputs": [
    {
     "name": "stdout",
     "output_type": "stream",
     "text": [
      "\n",
      "ANOVA Results - Congruency on Reactiontime (no latency):\n",
      "--------------------------------------------------\n",
      "Current Congruency Effect: F(1, 15) = 140.58, p = 0.00000001, ng^2 = 0.64\n",
      "Previous Congruency Effect: F(1, 15) = 5.97, p = 0.02740255, ng^2 = 0.01\n",
      "Interaction Effect: F(1, 15) = 54.36, p = 0.00000232, ng^2 = 0.17\n"
     ]
    }
   ],
   "source": [
    "currentcongruency_row = aov_results_no_latency[aov_results_no_latency['Source'] == 'currentcongruency']\n",
    "previouscongruency_row = aov_results_no_latency[aov_results_no_latency['Source'] == 'previouscongruency']\n",
    "currentxprevious_row = aov_results_no_latency[aov_results_no_latency['Source'] == 'currentcongruency * previouscongruency']\n",
    "\n",
    "print(\"\\nANOVA Results - Congruency on Reactiontime (no latency):\")\n",
    "print(\"-\" * 50)\n",
    "print(f\"Current Congruency Effect: F(1, 15) = {currentcongruency_row['F'].values[0]:.2f}, p = {currentcongruency_row['p-unc'].values[0]:.8f}, ng^2 = {currentcongruency_row['ng2'].values[0]:.2f}\")\n",
    "print(f\"Previous Congruency Effect: F(1, 15) = {previouscongruency_row['F'].values[0]:.2f}, p = {previouscongruency_row['p-unc'].values[0]:.8f}, ng^2 = {previouscongruency_row['ng2'].values[0]:.2f}\")\n",
    "print(f\"Interaction Effect: F(1, 15) = {currentxprevious_row['F'].values[0]:.2f}, p = {currentxprevious_row['p-unc'].values[0]:.8f}, ng^2 = {currentxprevious_row['ng2'].values[0]:.2f}\")"
   ]
  },
  {
   "cell_type": "code",
   "execution_count": 191,
   "metadata": {},
   "outputs": [
    {
     "name": "stdout",
     "output_type": "stream",
     "text": [
      "\n",
      "Anova results for congruency (current/previous) on RT (No latency):\n",
      "\n",
      "Mean Reaction Times for Each Condition:\n",
      "--------------------------------------------------\n",
      "Previous: Incongruent Current: Incongruent Mean RT: 461.17 ms\n",
      "Previous: Congruent   Current: Incongruent Mean RT: 494.26 ms\n",
      "Previous: Incongruent Current: Congruent   Mean RT: 409.82 ms\n",
      "Previous: Congruent   Current: Congruent   Mean RT: 390.44 ms\n",
      "\n",
      "Main Effects:\n",
      "--------------------------------------------------\n",
      "Current Congruency RTs: Incongruent: 477.72 ms, Congruent: 400.13 ms\n",
      "Congruency RT diff: 77.59 ms\n",
      "Statistical Significance: p = 140.57924975\n",
      "\n",
      "Previous Congruency RTs: Incongruent: 435.49 ms, Congruent: 442.35 ms\n",
      "Previous Trial RT diff: -6.86 ms\n",
      "Statistical Significance: p = 5.969440\n",
      "\n",
      "Interaction:\n",
      "--------------------------------------------------\n",
      "Congruency rt diff after congruent trial: 103.82 ms\n",
      "Congruency rt diff after incongruent trial: 51.35 ms\n",
      "Difference in RTs: 52.47 ms\n",
      "Statistical Significance: p = 54.363329\n"
     ]
    }
   ],
   "source": [
    "aggregated_df_no_latency = df_no_latency.groupby(['participant_num', 'currentcongruency', 'previouscongruency'])['reactiontime'].mean().reset_index()\n",
    "condition_means_no_latency = aggregated_df_no_latency.groupby(['currentcongruency', 'previouscongruency'])['reactiontime'].mean().reset_index()\n",
    "\n",
    "print(\"\\nAnova results for congruency (current/previous) on RT (No latency):\")\n",
    "print(\"\\nMean Reaction Times for Each Condition:\")\n",
    "print(\"-\" * 50)\n",
    "for _, row in condition_means_no_latency.iterrows():\n",
    "    current = \"Congruent\" if row['currentcongruency'] == 1 else \"Incongruent\"\n",
    "    previous = \"Congruent\" if row['previouscongruency'] == 1 else \"Incongruent\"\n",
    "    print(f\"Previous: {previous:<11} Current: {current:<11} Mean RT: {row['reactiontime']:.2f} ms\")\n",
    "\n",
    "# Calculate main effects\n",
    "print(\"\\nMain Effects:\")\n",
    "print(\"-\" * 50)\n",
    "current_mean_rt = condition_means_no_latency.groupby('currentcongruency')['reactiontime'].mean()\n",
    "print(f\"Current Congruency RTs: Incongruent: {current_mean_rt[0]:.2f} ms, Congruent: {current_mean_rt[1]:.2f} ms\")\n",
    "print(f\"Congruency RT diff: {current_mean_rt[0] - current_mean_rt[1]:.2f} ms\")\n",
    "print(f\"Statistical Significance: p = {currentcongruency_row['F'].values[0]:.8f}\\n\")\n",
    "\n",
    "previous_mean_rt = condition_means_no_latency.groupby('previouscongruency')['reactiontime'].mean()\n",
    "print(f\"Previous Congruency RTs: Incongruent: {previous_mean_rt[0]:.2f} ms, Congruent: {previous_mean_rt[1]:.2f} ms\")\n",
    "print(f\"Previous Trial RT diff: {previous_mean_rt[0] - previous_mean_rt[1]:.2f} ms\")\n",
    "print(f\"Statistical Significance: p = {previouscongruency_row['F'].values[0]:.6f}\\n\")\n",
    "\n",
    "cc_rt_after_c = condition_means_no_latency[condition_means_no_latency['previouscongruency']==1]['reactiontime'].values\n",
    "cc_rt_after_c = cc_rt_after_c[0] - cc_rt_after_c[1] if len(cc_rt_after_c) > 1 else \"N/A\"\n",
    "\n",
    "cc_rt_after_ic = condition_means_no_latency[condition_means_no_latency['previouscongruency']==0]['reactiontime'].values\n",
    "cc_rt_after_ic = cc_rt_after_ic[0] - cc_rt_after_ic[1] if len(cc_rt_after_ic) > 1 else \"N/A\"\n",
    "\n",
    "print(\"Interaction:\")\n",
    "print(\"-\" * 50)\n",
    "print(f\"Congruency rt diff after congruent trial: {cc_rt_after_c:.2f} ms\")\n",
    "print(f\"Congruency rt diff after incongruent trial: {cc_rt_after_ic:.2f} ms\")\n",
    "print(f\"Difference in RTs: {cc_rt_after_c - cc_rt_after_ic:.2f} ms\")\n",
    "print(f\"Statistical Significance: p = {currentxprevious_row['F'].values[0]:.6f}\")\n"
   ]
  },
  {
   "cell_type": "code",
   "execution_count": 192,
   "metadata": {},
   "outputs": [],
   "source": [
    "#visualize_anova_results(aggregated_df_no_latency, \"reactiontime\", \"Reaction Time\", \"Effect of Previous and Current Congruency on reaction time (no latency)\")"
   ]
  },
  {
   "cell_type": "markdown",
   "metadata": {},
   "source": [
    "## Für Gruppe mit Latenz"
   ]
  },
  {
   "cell_type": "code",
   "execution_count": 193,
   "metadata": {},
   "outputs": [
    {
     "name": "stdout",
     "output_type": "stream",
     "text": [
      "                                   Source           F         p-unc       ng2\n",
      "0                       currentcongruency  104.781768  3.671775e-08  0.594991\n",
      "1                      previouscongruency    3.425055  8.400749e-02  0.004670\n",
      "2  currentcongruency * previouscongruency  119.747854  1.508027e-08  0.147122\n"
     ]
    },
    {
     "name": "stderr",
     "output_type": "stream",
     "text": [
      "c:\\Users\\Matthias\\Documents\\GitHub\\continuousSimonTask\\venv\\lib\\site-packages\\pingouin\\distribution.py:507: FutureWarning: DataFrame.groupby with axis=1 is deprecated. Do `frame.T.groupby(...)` without axis instead.\n",
      "  data.groupby(level=1, axis=1, observed=True, group_keys=False)\n",
      "c:\\Users\\Matthias\\Documents\\GitHub\\continuousSimonTask\\venv\\lib\\site-packages\\pingouin\\distribution.py:507: FutureWarning: DataFrameGroupBy.diff with axis=1 is deprecated and will be removed in a future version. Operate on the un-grouped DataFrame instead\n",
      "  data.groupby(level=1, axis=1, observed=True, group_keys=False)\n"
     ]
    }
   ],
   "source": [
    "aov_results_with_latency = pg.rm_anova(dv='reactiontime', \n",
    "                            within=['currentcongruency', 'previouscongruency'], \n",
    "                            subject='participant_num', \n",
    "                            data=df_with_latency, \n",
    "                            detailed=True)\n",
    "\n",
    "print(aov_results_with_latency[['Source', 'F', 'p-unc', 'ng2']])"
   ]
  },
  {
   "cell_type": "code",
   "execution_count": 194,
   "metadata": {},
   "outputs": [
    {
     "name": "stdout",
     "output_type": "stream",
     "text": [
      "\n",
      "ANOVA Results - Congruency on Reactiontime (with latency):\n",
      "--------------------------------------------------\n",
      "Current Congruency Effect: F(1, 15) = 104.78, p = 0.00000004, ng^2 = 0.59\n",
      "Previous Congruency Effect: F(1, 15) = 3.43, p = 0.08400749, ng^2 = 0.0047\n",
      "Interaction Effect: F(1, 15) = 119.75, p = 0.00000002, ng^2 = 0.15\n"
     ]
    }
   ],
   "source": [
    "currentcongruency_row = aov_results_with_latency[aov_results_with_latency['Source'] == 'currentcongruency']\n",
    "previouscongruency_row = aov_results_with_latency[aov_results_with_latency['Source'] == 'previouscongruency']\n",
    "currentxprevious_row = aov_results_with_latency[aov_results_with_latency['Source'] == 'currentcongruency * previouscongruency']\n",
    "\n",
    "print(\"\\nANOVA Results - Congruency on Reactiontime (with latency):\")\n",
    "print(\"-\" * 50)\n",
    "print(f\"Current Congruency Effect: F(1, 15) = {currentcongruency_row['F'].values[0]:.2f}, p = {currentcongruency_row['p-unc'].values[0]:.8f}, ng^2 = {currentcongruency_row['ng2'].values[0]:.2f}\")\n",
    "print(f\"Previous Congruency Effect: F(1, 15) = {previouscongruency_row['F'].values[0]:.2f}, p = {previouscongruency_row['p-unc'].values[0]:.8f}, ng^2 = {previouscongruency_row['ng2'].values[0]:.4f}\")\n",
    "print(f\"Interaction Effect: F(1, 15) = {currentxprevious_row['F'].values[0]:.2f}, p = {currentxprevious_row['p-unc'].values[0]:.8f}, ng^2 = {currentxprevious_row['ng2'].values[0]:.2f}\")"
   ]
  },
  {
   "cell_type": "code",
   "execution_count": 195,
   "metadata": {},
   "outputs": [
    {
     "name": "stdout",
     "output_type": "stream",
     "text": [
      "\n",
      "Anova results for congruency (current/previous) on RT (No latency):\n",
      "\n",
      "Mean Reaction Times for Each Condition:\n",
      "--------------------------------------------------\n",
      "Previous: Incongruent Current: Incongruent Mean RT: 521.54 ms\n",
      "Previous: Congruent   Current: Incongruent Mean RT: 556.17 ms\n",
      "Previous: Incongruent Current: Congruent   Mean RT: 464.52 ms\n",
      "Previous: Congruent   Current: Congruent   Mean RT: 439.69 ms\n",
      "\n",
      "Main Effects:\n",
      "--------------------------------------------------\n",
      "Current Congruency RTs: Incongruent: 538.86 ms, Congruent: 452.11 ms\n",
      "Congruency RT diff: 86.75 ms\n",
      "Statistical Significance: p = 104.78176814\n",
      "\n",
      "Previous Congruency RTs: Incongruent: 493.03 ms, Congruent: 497.93 ms\n",
      "Previous Trial RT diff: -4.90 ms\n",
      "Statistical Significance: p = 3.425055\n",
      "\n",
      "Interaction:\n",
      "--------------------------------------------------\n",
      "Congruency rt diff after congruent trial: 116.48 ms\n",
      "Congruency rt diff after incongruent trial: 57.03 ms\n",
      "Difference in RTs: 59.45 ms\n",
      "Statistical Significance: p = 119.747854\n"
     ]
    }
   ],
   "source": [
    "aggregated_df_with_latency = df_with_latency.groupby(['participant_num', 'currentcongruency', 'previouscongruency'])['reactiontime'].mean().reset_index()\n",
    "condition_means_with_latency = aggregated_df_with_latency.groupby(['currentcongruency', 'previouscongruency'])['reactiontime'].mean().reset_index()\n",
    "\n",
    "print(\"\\nAnova results for congruency (current/previous) on RT (No latency):\")\n",
    "print(\"\\nMean Reaction Times for Each Condition:\")\n",
    "print(\"-\" * 50)\n",
    "for _, row in condition_means_with_latency.iterrows():\n",
    "    current = \"Congruent\" if row['currentcongruency'] == 1 else \"Incongruent\"\n",
    "    previous = \"Congruent\" if row['previouscongruency'] == 1 else \"Incongruent\"\n",
    "    print(f\"Previous: {previous:<11} Current: {current:<11} Mean RT: {row['reactiontime']:.2f} ms\")\n",
    "\n",
    "# Calculate main effects\n",
    "print(\"\\nMain Effects:\")\n",
    "print(\"-\" * 50)\n",
    "current_mean_rt = condition_means_with_latency.groupby('currentcongruency')['reactiontime'].mean()\n",
    "print(f\"Current Congruency RTs: Incongruent: {current_mean_rt[0]:.2f} ms, Congruent: {current_mean_rt[1]:.2f} ms\")\n",
    "print(f\"Congruency RT diff: {current_mean_rt[0] - current_mean_rt[1]:.2f} ms\")\n",
    "print(f\"Statistical Significance: p = {currentcongruency_row['F'].values[0]:.8f}\\n\")\n",
    "\n",
    "previous_mean_rt = condition_means_with_latency.groupby('previouscongruency')['reactiontime'].mean()\n",
    "print(f\"Previous Congruency RTs: Incongruent: {previous_mean_rt[0]:.2f} ms, Congruent: {previous_mean_rt[1]:.2f} ms\")\n",
    "print(f\"Previous Trial RT diff: {previous_mean_rt[0] - previous_mean_rt[1]:.2f} ms\")\n",
    "print(f\"Statistical Significance: p = {previouscongruency_row['F'].values[0]:.6f}\\n\")\n",
    "\n",
    "cc_rt_after_c = condition_means_with_latency[condition_means_with_latency['previouscongruency']==1]['reactiontime'].values\n",
    "cc_rt_after_c = cc_rt_after_c[0] - cc_rt_after_c[1] if len(cc_rt_after_c) > 1 else \"N/A\"\n",
    "\n",
    "cc_rt_after_ic = condition_means_with_latency[condition_means_with_latency['previouscongruency']==0]['reactiontime'].values\n",
    "cc_rt_after_ic = cc_rt_after_ic[0] - cc_rt_after_ic[1] if len(cc_rt_after_ic) > 1 else \"N/A\"\n",
    "\n",
    "print(\"Interaction:\")\n",
    "print(\"-\" * 50)\n",
    "print(f\"Congruency rt diff after congruent trial: {cc_rt_after_c:.2f} ms\")\n",
    "print(f\"Congruency rt diff after incongruent trial: {cc_rt_after_ic:.2f} ms\")\n",
    "print(f\"Difference in RTs: {cc_rt_after_c - cc_rt_after_ic:.2f} ms\")\n",
    "print(f\"Statistical Significance: p = {currentxprevious_row['F'].values[0]:.6f}\")\n"
   ]
  },
  {
   "cell_type": "code",
   "execution_count": 197,
   "metadata": {},
   "outputs": [],
   "source": [
    "#visualize_anova_results(aggregated_df_with_latency, \"reactiontime\", \"Reaction Time\", \"Effect of Previous and Current Congruency on reaction time (with latency)\")"
   ]
  },
  {
   "cell_type": "markdown",
   "metadata": {},
   "source": [
    "## Darstellen der 2 Conditions in einem Plot"
   ]
  },
  {
   "cell_type": "code",
   "execution_count": 198,
   "metadata": {},
   "outputs": [],
   "source": [
    "def visualize_anova_results_combined_single_plot(df1, df2, key, key_label, title, showErrorBars=True):\n",
    "    grouped_data_df1 = df1.groupby(['previouscongruency', 'currentcongruency'])[key].mean().reset_index()\n",
    "    grouped_data_df2 = df2.groupby(['previouscongruency', 'currentcongruency'])[key].mean().reset_index()\n",
    "\n",
    "    fig, ax = plt.subplots(figsize=(10, 7))  \n",
    "    sns.set_style('whitegrid')\n",
    "\n",
    "    markers = ['o', 's']\n",
    "    linestyles = ['-', '--']\n",
    "    colors = ['darkblue', 'royalblue', 'darkred', 'firebrick']\n",
    "    labels = ['Current: Congruent (With latency)', 'Current: Incongruent (With latency)', \n",
    "              'Current: Congruent (Without latency)', 'Current: Incongruent (Without latency)']\n",
    "    x_mapping = {1: 0, 0: 1}\n",
    "    \n",
    "    for i, current in enumerate([1, 0]):\n",
    "        subset = grouped_data_df1[grouped_data_df1['currentcongruency'] == current]\n",
    "        subset = subset.sort_values('previouscongruency', ascending=False)\n",
    "        x_values = [x_mapping[prev] for prev in subset['previouscongruency']]\n",
    "\n",
    "        ax.plot(x_values, subset[key], \n",
    "                marker=markers[i], linestyle=linestyles[i], color=colors[i], \n",
    "                linewidth=2, markersize=10, label=labels[i])\n",
    "\n",
    "    for i, current in enumerate([1, 0]):\n",
    "        subset = grouped_data_df2[grouped_data_df2['currentcongruency'] == current]\n",
    "        subset = subset.sort_values('previouscongruency', ascending=False)\n",
    "        x_values = [x_mapping[prev] for prev in subset['previouscongruency']]\n",
    "\n",
    "        ax.plot(x_values, subset[key], \n",
    "                marker=markers[i], linestyle=linestyles[i], color=colors[i+2], \n",
    "                linewidth=2, markersize=10, label=labels[i+2])\n",
    "    \n",
    "    ax.set_xticks([0, 1])\n",
    "    ax.set_xticklabels(['Congruent', 'Incongruent'])\n",
    "    ax.set_xlabel('Previous Congruency', fontsize=14)\n",
    "    ax.set_ylabel(key_label, fontsize=14)\n",
    "    ax.set_title(f'{title}', fontsize=16)\n",
    "\n",
    "    if showErrorBars:\n",
    "        for i, current in enumerate([1, 0]):\n",
    "            for j, previous in enumerate([1, 0]):\n",
    "                subset = df1[(df1['currentcongruency'] == current) & (df1['previouscongruency'] == previous)]\n",
    "                mean = subset[key].mean()\n",
    "                se = subset[key].std() / np.sqrt(len(subset))\n",
    "                ax.errorbar(x_mapping[previous], mean, yerr=se, fmt='none', capsize=5, \n",
    "                           ecolor=colors[i], alpha=0.7)\n",
    "\n",
    "        for i, current in enumerate([1, 0]):\n",
    "            for j, previous in enumerate([1, 0]):\n",
    "                subset = df2[(df2['currentcongruency'] == current) & (df2['previouscongruency'] == previous)]\n",
    "                mean = subset[key].mean()\n",
    "                se = subset[key].std() / np.sqrt(len(subset))\n",
    "                ax.errorbar(x_mapping[previous], mean, yerr=se, fmt='none', capsize=5, \n",
    "                           ecolor=colors[i+2], alpha=0.7)\n",
    "\n",
    "\n",
    "    ax.legend(loc=\"upper center\", bbox_to_anchor=(0.5, -0.15), borderaxespad=0, ncol=2, fontsize=15)\n",
    "\n",
    "    plt.tight_layout()\n",
    "    plt.subplots_adjust(bottom=0.25) \n",
    "    plt.grid(True, linestyle='--', alpha=0.7)\n",
    "\n",
    "\n",
    "    plt.show()"
   ]
  },
  {
   "cell_type": "code",
   "execution_count": null,
   "metadata": {},
   "outputs": [
    {
     "data": {
      "image/png": "[encoded data removed]",
      "text/plain": [
       "<Figure size 1000x700 with 1 Axes>"
      ]
     },
     "metadata": {},
     "output_type": "display_data"
    }
   ],
   "source": [
    "visualize_anova_results_combined_single_plot(aggregated_df_with_latency, aggregated_df_no_latency, \"reactiontime\", \"Reaction Time (ms)\", \"Effect of Previous and Current Congruency on reaction time\")"
   ]
  }
 ],
 "metadata": {
  "kernelspec": {
   "display_name": "venv",
   "language": "python",
   "name": "python3"
  },
  "language_info": {
   "codemirror_mode": {
    "name": "ipython",
    "version": 3
   },
   "file_extension": ".py",
   "mimetype": "text/x-python",
   "name": "python",
   "nbconvert_exporter": "python",
   "pygments_lexer": "ipython3",
   "version": "3.10.0"
  }
 },
 "nbformat": 4,
 "nbformat_minor": 2
}
